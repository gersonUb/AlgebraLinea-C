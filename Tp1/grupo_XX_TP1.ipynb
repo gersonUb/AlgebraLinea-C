{
 "cells": [
  {
   "attachments": {},
   "cell_type": "markdown",
   "id": "5c0cbb93-2880-4750-975d-11cce9f6b12c",
   "metadata": {},
   "source": [
    "# Trabajo Práctico 1 - Matrices de Insumo Producto\n",
    "\n",
    "## Enunciado"
   ]
  },
  {
   "cell_type": "markdown",
   "id": "11f7face-a325-4e30-b13e-0c3d84280c5e",
   "metadata": {},
   "source": [
    "### Consigna 1 - "
   ]
  },
  {
   "cell_type": "markdown",
   "id": "0b968eed-78e8-4417-97b8-81ca3de005c4",
   "metadata": {},
   "source": [
    "#### a) $(I - A)$ es inversible:\n",
    "\n",
    "Si partimos de la ecuacion [1] : \n",
    "\n",
    "$p = A*p + d \\Rightarrow p - A*p = d \\Rightarrow (I - A)p = d$\n",
    "\n",
    "Entonces, si queremos despejar $p$ necesitamos que $(I - A)$ sea inversible.\n",
    "\n",
    "Por lo que, resolveremos la siguiente multiplicacion para hallar $p$ :\n",
    "\n",
    "$(I - A)^{-1}d = p$ ,donde $A$ y $d$ son datos.\n",
    "\n",
    "\n"
   ]
  },
  {
   "cell_type": "markdown",
   "id": "5660adaf-1a95-4b13-abb5-f617a6cf7db3",
   "metadata": {},
   "source": [
    "#### b) $(I - A)$ es inversible y $d = 0$:\n",
    "\n",
    "Si solo analizamos la ecuacion [2]:\n",
    "\n",
    "tendriamos a $p = (I-A)^{-1}0 \\Rightarrow p = 0$."
   ]
  },
  {
   "cell_type": "markdown",
   "id": "2e11f6f3-ed78-455b-bf5c-dada761191c9",
   "metadata": {},
   "source": [
    "#### c) $(I - A)$ no es inversible\n",
    "Como notamos en el enciso a) : cuando $(I-A)p = d$ \n",
    "\n",
    "necesitamos que $(I-A)$ sea inversible para poder expresar la ecuacion [2].\n",
    "\n",
    "Pero, igualmente la solucion a nuestro problema sigue vigente a pesar de que $(I-A)$ no tenga inversa.\n",
    "\n",
    "Por lo que, calcular con eliminacion Gaussiana la solucion de la ecuacion $(I-A)p = d$, es una posibilidad.\n"
   ]
  },
  {
   "cell_type": "markdown",
   "id": "4eb975de-903d-4a64-bb63-18a688bef005",
   "metadata": {},
   "source": [
    "#### d) $(I - A)$ no es inversible y $d = 0$\n",
    "En esta oportunidad, solo tendriamos la alternativa de calcular la solucion de la ecuacion:\n",
    "\n",
    "$(I - A)p = d$\n",
    "\n",
    "siendo que $d=0$ , estariamos diciendo que $p \\in Nu(I-A)$"
   ]
  },
  {
   "cell_type": "markdown",
   "id": "76272f17-7df3-414a-8431-394f713e58ac",
   "metadata": {},
   "source": [
    "---"
   ]
  },
  {
   "cell_type": "markdown",
   "id": "6ea60699-4c07-40fb-8f71-ec4cacf32708",
   "metadata": {},
   "source": [
    "### Consigna 2 -  "
   ]
  },
  {
   "cell_type": "code",
   "execution_count": 147,
   "id": "260b913f-d6d3-47b8-9431-7a64d6d037a5",
   "metadata": {},
   "outputs": [],
   "source": [
    "import funciones as f"
   ]
  },
  {
   "cell_type": "markdown",
   "id": "b6527567-ea14-4fb0-8cbb-3faa67fee8c1",
   "metadata": {},
   "source": [
    "---"
   ]
  },
  {
   "cell_type": "markdown",
   "id": "631a2519-ca67-4131-8bb1-2c13b1ff2bd8",
   "metadata": {},
   "source": [
    "### Consigna 3 - "
   ]
  },
  {
   "cell_type": "markdown",
   "id": "d16c0389-e622-4682-8dd8-872587aeec27",
   "metadata": {},
   "source": [
    "Construimos la matriz A :"
   ]
  },
  {
   "cell_type": "code",
   "execution_count": 95,
   "id": "34bab9b7-55ca-4242-a55d-eeaddb5a847f",
   "metadata": {},
   "outputs": [],
   "source": [
    "A = [[0.3,0.0,0.1],[0.5,1.0,0.2],[0.1,0.15,0.1]]"
   ]
  },
  {
   "cell_type": "markdown",
   "id": "ccea7f68-cca1-4f55-9921-d34c5025498c",
   "metadata": {},
   "source": [
    "Contruimos la matriz d:"
   ]
  },
  {
   "cell_type": "code",
   "execution_count": 97,
   "id": "19b97cb8-cdd3-43ec-9ff3-f13519826b4a",
   "metadata": {},
   "outputs": [],
   "source": [
    "d = [100,100,300]"
   ]
  },
  {
   "cell_type": "markdown",
   "id": "a1be3c6b-b248-492f-a9ca-5eeebd2d809b",
   "metadata": {},
   "source": [
    "Primeramente, usamos la funcion calcularLU() para obtener L y U"
   ]
  },
  {
   "cell_type": "code",
   "execution_count": 117,
   "id": "c1fe0a2f-90d7-461a-9474-fe22374147e2",
   "metadata": {},
   "outputs": [
    {
     "name": "stdout",
     "output_type": "stream",
     "text": [
      "Matriz L:\n",
      " [[ 1.  0.  0.]\n",
      " [-0.  1.  0.]\n",
      " [ 0. -0.  1.]]\n",
      "Matriz U:\n",
      " [[-0.9        -0.85       -0.9       ]\n",
      " [ 0.         -0.33888889 -0.2       ]\n",
      " [-0.5         0.         -0.8       ]]\n",
      "Matriz P:\n",
      " [[0. 0. 1.]\n",
      " [1. 0. 0.]\n",
      " [0. 1. 0.]]\n"
     ]
    }
   ],
   "source": [
    "I = np.ones(3)\n",
    "L, U, P = f.calcularLU(A - I)\n",
    "print(\"Matriz L:\\n\", L)\n",
    "print(\"Matriz U:\\n\", U)\n",
    "print(\"Matriz P:\\n\", P)"
   ]
  },
  {
   "cell_type": "markdown",
   "id": "f322bac5-3563-402a-88a0-98b763fef64a",
   "metadata": {},
   "source": [
    "Una vez, con las matrices L y U calculamos la inversa de A"
   ]
  },
  {
   "cell_type": "code",
   "execution_count": 119,
   "id": "cacaf09b-e8f3-4034-b6e7-28156c340758",
   "metadata": {},
   "outputs": [
    {
     "name": "stdout",
     "output_type": "stream",
     "text": [
      "Inversa de A:\n",
      " [[-1.53604029  3.85269122  0.76487252]\n",
      " [-0.56657224 -1.52974504  1.01983003]\n",
      " [ 0.96002518 -2.40793201 -1.72804533]]\n"
     ]
    }
   ],
   "source": [
    "Inv = f.inversaLU(L, U, P)\n",
    "print(\"Inversa de A:\\n\", Inv)"
   ]
  },
  {
   "cell_type": "markdown",
   "id": "6c39df32-17dc-45ae-90ac-1bac38b47308",
   "metadata": {},
   "source": [
    "Por ultimo, resolvemos el sistema"
   ]
  },
  {
   "cell_type": "code",
   "execution_count": 125,
   "id": "118b09bb-4b12-41c1-b75b-a6de4e3f7317",
   "metadata": {},
   "outputs": [
    {
     "name": "stdout",
     "output_type": "stream",
     "text": [
      "Vector p:\n",
      " [ 461.12684923   96.31728045 -663.20428077]\n"
     ]
    }
   ],
   "source": [
    "p = np.dot(Inv, d)\n",
    "print(\"Vector p:\\n\", p)"
   ]
  },
  {
   "cell_type": "markdown",
   "id": "dca94bec-b0e1-4ef8-ba07-7edc3787fe3c",
   "metadata": {},
   "source": [
    "#### ¿Hay una justificación económica de los valores encontrados para $p$?\n",
    "Los valores del vector $p$, que son $[461.13,96.32,−663.20]$, representan las cantidades que deben producir los sectores para satisfacer tanto la demanda interna como la externa.\n",
    "\n",
    "Entonces, los valores reflejan la necesidad de ajustes en la producción de los sectores para satisfacer las demandas de manera eficiente y podrían indicar que el modelo necesita revisión para evitar resultados no realistas.\n"
   ]
  },
  {
   "cell_type": "markdown",
   "id": "3f1637c6-75b8-4d42-a645-beff383b8b50",
   "metadata": {},
   "source": [
    "#### ¿Cuál es la característica de la matriz que lleva a esta solución?\n",
    "\n",
    "la característica principal de la matriz es su posible mala condición, que contribuye a la obtención de resultados inestables o no realistas, como el valor negativo en la producción."
   ]
  },
  {
   "cell_type": "markdown",
   "id": "1d3f1026-c732-4453-a753-eba8fcef264a",
   "metadata": {},
   "source": [
    "---"
   ]
  },
  {
   "cell_type": "markdown",
   "id": "e0015d77-83aa-4b00-a681-af14f546bb6d",
   "metadata": {},
   "source": [
    "### Consigna 4 -"
   ]
  },
  {
   "cell_type": "markdown",
   "id": "8da92fc5-071d-4106-bc28-a859a2a5074f",
   "metadata": {},
   "source": [
    "El cambio en la demanda externa es representado por $\\Delta d_3$, dado que solo afecta para el producto 3.\n",
    "\n",
    "Lo podemos expresar como $\\Delta d_3 = d' - d \\Rightarrow d' = d + \\Delta d_3$ \n",
    "\n",
    "El cambio de la produccion total se puede expresar como : $\\Delta p = p'- p$\n",
    "\n",
    "donde $p' = Ld'$ y $p = Ld$ , siendo $L$ la matriz de Leonief.\n",
    "\n",
    "Entonces, $\\Delta p = Ld' - Ld \\Rightarrow \\Delta p = (Ld + L\\Delta d_3) - Ld  \\Rightarrow \\therefore \\Delta p = L\\Delta d_3$\n",
    "\n",
    "Este resultado significa que el cambio en la producción de cada sector está determinado por cómo está relacionado ese sector con el producto 3 (representado por la tercera columna de la matriz $L$)"
   ]
  },
  {
   "cell_type": "code",
   "execution_count": null,
   "id": "ce64a3f2-c461-49bd-adfd-60caf6ae0ec7",
   "metadata": {},
   "outputs": [],
   "source": []
  }
 ],
 "metadata": {
  "kernelspec": {
   "display_name": "Python 3 (ipykernel)",
   "language": "python",
   "name": "python3"
  },
  "language_info": {
   "codemirror_mode": {
    "name": "ipython",
    "version": 3
   },
   "file_extension": ".py",
   "mimetype": "text/x-python",
   "name": "python",
   "nbconvert_exporter": "python",
   "pygments_lexer": "ipython3",
   "version": "3.12.4"
  }
 },
 "nbformat": 4,
 "nbformat_minor": 5
}
